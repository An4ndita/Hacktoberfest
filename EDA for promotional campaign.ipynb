{
 "cells": [
  {
   "cell_type": "code",
   "execution_count": null,
   "metadata": {},
   "outputs": [],
   "source": [
    "import numpy as np\n",
    "import pandas as pd\n",
    "\n",
    "import seaborn as sns\n",
    "import matplotlib.pyplot as plt"
   ]
  },
  {
   "cell_type": "code",
   "execution_count": 166,
   "metadata": {},
   "outputs": [],
   "source": [
    "data = pd.read_excel('Data Analyst Assignment (1).xlsx')"
   ]
  },
  {
   "cell_type": "code",
   "execution_count": 167,
   "metadata": {},
   "outputs": [
    {
     "data": {
      "text/html": [
       "<div>\n",
       "<style scoped>\n",
       "    .dataframe tbody tr th:only-of-type {\n",
       "        vertical-align: middle;\n",
       "    }\n",
       "\n",
       "    .dataframe tbody tr th {\n",
       "        vertical-align: top;\n",
       "    }\n",
       "\n",
       "    .dataframe thead th {\n",
       "        text-align: right;\n",
       "    }\n",
       "</style>\n",
       "<table border=\"1\" class=\"dataframe\">\n",
       "  <thead>\n",
       "    <tr style=\"text-align: right;\">\n",
       "      <th></th>\n",
       "      <th>Date</th>\n",
       "      <th>product</th>\n",
       "      <th>phase</th>\n",
       "      <th>campaign_platform</th>\n",
       "      <th>campaign_type</th>\n",
       "      <th>communication_medium</th>\n",
       "      <th>subchannel</th>\n",
       "      <th>audience_type</th>\n",
       "      <th>creative_type</th>\n",
       "      <th>creative_name</th>\n",
       "      <th>device</th>\n",
       "      <th>age</th>\n",
       "      <th>spends</th>\n",
       "      <th>impressions</th>\n",
       "      <th>clicks</th>\n",
       "      <th>link_clicks</th>\n",
       "    </tr>\n",
       "  </thead>\n",
       "  <tbody>\n",
       "    <tr>\n",
       "      <th>0</th>\n",
       "      <td>2019-10-16</td>\n",
       "      <td>Product 1</td>\n",
       "      <td>Performance</td>\n",
       "      <td>Google Ads</td>\n",
       "      <td>Search</td>\n",
       "      <td>Search Keywords</td>\n",
       "      <td>Brand</td>\n",
       "      <td>'-</td>\n",
       "      <td>'-</td>\n",
       "      <td>'-</td>\n",
       "      <td>Desktop</td>\n",
       "      <td>18-24</td>\n",
       "      <td>0.00</td>\n",
       "      <td>2</td>\n",
       "      <td>0</td>\n",
       "      <td>0.0</td>\n",
       "    </tr>\n",
       "    <tr>\n",
       "      <th>1</th>\n",
       "      <td>2019-10-16</td>\n",
       "      <td>Product 1</td>\n",
       "      <td>Performance</td>\n",
       "      <td>Google Ads</td>\n",
       "      <td>Search</td>\n",
       "      <td>Search Keywords</td>\n",
       "      <td>Brand</td>\n",
       "      <td>'-</td>\n",
       "      <td>'-</td>\n",
       "      <td>'-</td>\n",
       "      <td>Desktop</td>\n",
       "      <td>25-34</td>\n",
       "      <td>0.00</td>\n",
       "      <td>5</td>\n",
       "      <td>0</td>\n",
       "      <td>0.0</td>\n",
       "    </tr>\n",
       "    <tr>\n",
       "      <th>2</th>\n",
       "      <td>2019-10-16</td>\n",
       "      <td>Product 1</td>\n",
       "      <td>Performance</td>\n",
       "      <td>Google Ads</td>\n",
       "      <td>Search</td>\n",
       "      <td>Search Keywords</td>\n",
       "      <td>Brand</td>\n",
       "      <td>'-</td>\n",
       "      <td>'-</td>\n",
       "      <td>'-</td>\n",
       "      <td>Desktop</td>\n",
       "      <td>35-44</td>\n",
       "      <td>0.00</td>\n",
       "      <td>1</td>\n",
       "      <td>0</td>\n",
       "      <td>0.0</td>\n",
       "    </tr>\n",
       "    <tr>\n",
       "      <th>3</th>\n",
       "      <td>2019-10-16</td>\n",
       "      <td>Product 1</td>\n",
       "      <td>Performance</td>\n",
       "      <td>Google Ads</td>\n",
       "      <td>Search</td>\n",
       "      <td>Search Keywords</td>\n",
       "      <td>Brand</td>\n",
       "      <td>'-</td>\n",
       "      <td>'-</td>\n",
       "      <td>'-</td>\n",
       "      <td>Desktop</td>\n",
       "      <td>Undetermined</td>\n",
       "      <td>14.63</td>\n",
       "      <td>5</td>\n",
       "      <td>3</td>\n",
       "      <td>0.0</td>\n",
       "    </tr>\n",
       "    <tr>\n",
       "      <th>4</th>\n",
       "      <td>2019-10-18</td>\n",
       "      <td>Product 1</td>\n",
       "      <td>Performance</td>\n",
       "      <td>Google Ads</td>\n",
       "      <td>Search</td>\n",
       "      <td>Search Keywords</td>\n",
       "      <td>Brand</td>\n",
       "      <td>'-</td>\n",
       "      <td>'-</td>\n",
       "      <td>'-</td>\n",
       "      <td>Desktop</td>\n",
       "      <td>18-24</td>\n",
       "      <td>53.31</td>\n",
       "      <td>10</td>\n",
       "      <td>2</td>\n",
       "      <td>0.0</td>\n",
       "    </tr>\n",
       "  </tbody>\n",
       "</table>\n",
       "</div>"
      ],
      "text/plain": [
       "        Date    product        phase campaign_platform campaign_type  \\\n",
       "0 2019-10-16  Product 1  Performance        Google Ads        Search   \n",
       "1 2019-10-16  Product 1  Performance        Google Ads        Search   \n",
       "2 2019-10-16  Product 1  Performance        Google Ads        Search   \n",
       "3 2019-10-16  Product 1  Performance        Google Ads        Search   \n",
       "4 2019-10-18  Product 1  Performance        Google Ads        Search   \n",
       "\n",
       "  communication_medium subchannel audience_type creative_type creative_name  \\\n",
       "0      Search Keywords      Brand            '-            '-            '-   \n",
       "1      Search Keywords      Brand            '-            '-            '-   \n",
       "2      Search Keywords      Brand            '-            '-            '-   \n",
       "3      Search Keywords      Brand            '-            '-            '-   \n",
       "4      Search Keywords      Brand            '-            '-            '-   \n",
       "\n",
       "    device           age  spends  impressions  clicks  link_clicks  \n",
       "0  Desktop         18-24    0.00            2       0          0.0  \n",
       "1  Desktop         25-34    0.00            5       0          0.0  \n",
       "2  Desktop         35-44    0.00            1       0          0.0  \n",
       "3  Desktop  Undetermined   14.63            5       3          0.0  \n",
       "4  Desktop         18-24   53.31           10       2          0.0  "
      ]
     },
     "execution_count": 167,
     "metadata": {},
     "output_type": "execute_result"
    }
   ],
   "source": [
    "data.head()"
   ]
  },
  {
   "cell_type": "code",
   "execution_count": 168,
   "metadata": {},
   "outputs": [
    {
     "data": {
      "text/plain": [
       "(16834, 16)"
      ]
     },
     "execution_count": 168,
     "metadata": {},
     "output_type": "execute_result"
    }
   ],
   "source": [
    "data.shape"
   ]
  },
  {
   "cell_type": "code",
   "execution_count": 169,
   "metadata": {},
   "outputs": [
    {
     "name": "stdout",
     "output_type": "stream",
     "text": [
      "<class 'pandas.core.frame.DataFrame'>\n",
      "RangeIndex: 16834 entries, 0 to 16833\n",
      "Data columns (total 16 columns):\n",
      "Date                    16834 non-null datetime64[ns]\n",
      "product                 16834 non-null object\n",
      "phase                   16834 non-null object\n",
      "campaign_platform       16834 non-null object\n",
      "campaign_type           16834 non-null object\n",
      "communication_medium    16834 non-null object\n",
      "subchannel              16834 non-null object\n",
      "audience_type           16834 non-null object\n",
      "creative_type           16834 non-null object\n",
      "creative_name           16834 non-null object\n",
      "device                  16834 non-null object\n",
      "age                     16834 non-null object\n",
      "spends                  16834 non-null float64\n",
      "impressions             16834 non-null int64\n",
      "clicks                  16834 non-null int64\n",
      "link_clicks             16288 non-null float64\n",
      "dtypes: datetime64[ns](1), float64(2), int64(2), object(11)\n",
      "memory usage: 2.1+ MB\n"
     ]
    }
   ],
   "source": [
    "data.info()"
   ]
  },
  {
   "cell_type": "markdown",
   "metadata": {},
   "source": [
    "#### Feature Description:\n",
    "* Platform: Marketing platforms on which campaigns are running majorly: Google Ads and Facebook Ads \n",
    "* Type: Type of campaign, In this data only Google search and Facebook Conversion campaigns have boon considered\n",
    "* Medium: The way we are connecting to people in our Marketing campaigns either via some Keywords or Creatives.\n",
    "* Sub Channel: Sub channel is under Google Search which type of keywords have been targeted or in Facebook which on subchannel we are targeting\n",
    "* Audience: Multiple Type of audiences are getting targeted in different campaigns an dthose have been encrypted as Audience 1,2,3\n",
    "* Creative: This if for facebook what type of Image/Video/Carousel we are using in our Ads."
   ]
  },
  {
   "cell_type": "code",
   "execution_count": 170,
   "metadata": {},
   "outputs": [
    {
     "data": {
      "text/html": [
       "<div>\n",
       "<style scoped>\n",
       "    .dataframe tbody tr th:only-of-type {\n",
       "        vertical-align: middle;\n",
       "    }\n",
       "\n",
       "    .dataframe tbody tr th {\n",
       "        vertical-align: top;\n",
       "    }\n",
       "\n",
       "    .dataframe thead th {\n",
       "        text-align: right;\n",
       "    }\n",
       "</style>\n",
       "<table border=\"1\" class=\"dataframe\">\n",
       "  <thead>\n",
       "    <tr style=\"text-align: right;\">\n",
       "      <th></th>\n",
       "      <th>spends</th>\n",
       "      <th>impressions</th>\n",
       "      <th>clicks</th>\n",
       "      <th>link_clicks</th>\n",
       "    </tr>\n",
       "  </thead>\n",
       "  <tbody>\n",
       "    <tr>\n",
       "      <th>count</th>\n",
       "      <td>16834.000000</td>\n",
       "      <td>16834.000000</td>\n",
       "      <td>16834.000000</td>\n",
       "      <td>16288.000000</td>\n",
       "    </tr>\n",
       "    <tr>\n",
       "      <th>mean</th>\n",
       "      <td>148.694236</td>\n",
       "      <td>287.959190</td>\n",
       "      <td>11.977783</td>\n",
       "      <td>2.170371</td>\n",
       "    </tr>\n",
       "    <tr>\n",
       "      <th>std</th>\n",
       "      <td>483.895724</td>\n",
       "      <td>2444.450313</td>\n",
       "      <td>44.796963</td>\n",
       "      <td>18.659132</td>\n",
       "    </tr>\n",
       "    <tr>\n",
       "      <th>min</th>\n",
       "      <td>0.000000</td>\n",
       "      <td>0.000000</td>\n",
       "      <td>0.000000</td>\n",
       "      <td>0.000000</td>\n",
       "    </tr>\n",
       "    <tr>\n",
       "      <th>25%</th>\n",
       "      <td>0.180000</td>\n",
       "      <td>3.000000</td>\n",
       "      <td>0.000000</td>\n",
       "      <td>0.000000</td>\n",
       "    </tr>\n",
       "    <tr>\n",
       "      <th>50%</th>\n",
       "      <td>22.535000</td>\n",
       "      <td>13.000000</td>\n",
       "      <td>2.000000</td>\n",
       "      <td>0.000000</td>\n",
       "    </tr>\n",
       "    <tr>\n",
       "      <th>75%</th>\n",
       "      <td>110.020000</td>\n",
       "      <td>64.000000</td>\n",
       "      <td>8.000000</td>\n",
       "      <td>0.000000</td>\n",
       "    </tr>\n",
       "    <tr>\n",
       "      <th>max</th>\n",
       "      <td>9221.960000</td>\n",
       "      <td>67454.000000</td>\n",
       "      <td>1075.000000</td>\n",
       "      <td>450.000000</td>\n",
       "    </tr>\n",
       "  </tbody>\n",
       "</table>\n",
       "</div>"
      ],
      "text/plain": [
       "             spends   impressions        clicks   link_clicks\n",
       "count  16834.000000  16834.000000  16834.000000  16288.000000\n",
       "mean     148.694236    287.959190     11.977783      2.170371\n",
       "std      483.895724   2444.450313     44.796963     18.659132\n",
       "min        0.000000      0.000000      0.000000      0.000000\n",
       "25%        0.180000      3.000000      0.000000      0.000000\n",
       "50%       22.535000     13.000000      2.000000      0.000000\n",
       "75%      110.020000     64.000000      8.000000      0.000000\n",
       "max     9221.960000  67454.000000   1075.000000    450.000000"
      ]
     },
     "execution_count": 170,
     "metadata": {},
     "output_type": "execute_result"
    }
   ],
   "source": [
    "data.describe()"
   ]
  },
  {
   "cell_type": "code",
   "execution_count": 171,
   "metadata": {},
   "outputs": [
    {
     "name": "stdout",
     "output_type": "stream",
     "text": [
      "['Date', 'product', 'phase', 'campaign_platform', 'campaign_type', 'communication_medium', 'subchannel', 'audience_type', 'creative_type', 'creative_name', 'device', 'age', 'spends', 'impressions', 'clicks', 'link_clicks']\n"
     ]
    }
   ],
   "source": [
    "print(list(data.columns))"
   ]
  },
  {
   "cell_type": "code",
   "execution_count": 172,
   "metadata": {},
   "outputs": [
    {
     "data": {
      "text/plain": [
       "Date                      0\n",
       "product                   0\n",
       "phase                     0\n",
       "campaign_platform         0\n",
       "campaign_type             0\n",
       "communication_medium      0\n",
       "subchannel                0\n",
       "audience_type             0\n",
       "creative_type             0\n",
       "creative_name             0\n",
       "device                    0\n",
       "age                       0\n",
       "spends                    0\n",
       "impressions               0\n",
       "clicks                    0\n",
       "link_clicks             546\n",
       "dtype: int64"
      ]
     },
     "execution_count": 172,
     "metadata": {},
     "output_type": "execute_result"
    }
   ],
   "source": [
    "data.isnull().sum()"
   ]
  },
  {
   "cell_type": "markdown",
   "metadata": {},
   "source": [
    "* We have 546 null values in link_clicks\n",
    "* Since link_clicks is a key feature for our analysis, we can remove the rows with null values in this feature.\n",
    "* And we droped the date column because it's not of much use."
   ]
  },
  {
   "cell_type": "code",
   "execution_count": 173,
   "metadata": {},
   "outputs": [],
   "source": [
    "data = data.drop(['Date'], axis=1)"
   ]
  },
  {
   "cell_type": "code",
   "execution_count": 174,
   "metadata": {},
   "outputs": [],
   "source": [
    "data = data.dropna()"
   ]
  },
  {
   "cell_type": "code",
   "execution_count": 175,
   "metadata": {},
   "outputs": [
    {
     "data": {
      "text/plain": [
       "(16288, 15)"
      ]
     },
     "execution_count": 175,
     "metadata": {},
     "output_type": "execute_result"
    }
   ],
   "source": [
    "data.shape"
   ]
  },
  {
   "cell_type": "code",
   "execution_count": 176,
   "metadata": {},
   "outputs": [
    {
     "data": {
      "text/html": [
       "<div>\n",
       "<style scoped>\n",
       "    .dataframe tbody tr th:only-of-type {\n",
       "        vertical-align: middle;\n",
       "    }\n",
       "\n",
       "    .dataframe tbody tr th {\n",
       "        vertical-align: top;\n",
       "    }\n",
       "\n",
       "    .dataframe thead th {\n",
       "        text-align: right;\n",
       "    }\n",
       "</style>\n",
       "<table border=\"1\" class=\"dataframe\">\n",
       "  <thead>\n",
       "    <tr style=\"text-align: right;\">\n",
       "      <th></th>\n",
       "      <th>product</th>\n",
       "      <th>phase</th>\n",
       "      <th>campaign_platform</th>\n",
       "      <th>campaign_type</th>\n",
       "      <th>communication_medium</th>\n",
       "      <th>subchannel</th>\n",
       "      <th>audience_type</th>\n",
       "      <th>creative_type</th>\n",
       "      <th>creative_name</th>\n",
       "      <th>device</th>\n",
       "      <th>age</th>\n",
       "      <th>spends</th>\n",
       "      <th>impressions</th>\n",
       "      <th>clicks</th>\n",
       "      <th>link_clicks</th>\n",
       "    </tr>\n",
       "  </thead>\n",
       "  <tbody>\n",
       "    <tr>\n",
       "      <th>0</th>\n",
       "      <td>Product 1</td>\n",
       "      <td>Performance</td>\n",
       "      <td>Google Ads</td>\n",
       "      <td>Search</td>\n",
       "      <td>Search Keywords</td>\n",
       "      <td>Brand</td>\n",
       "      <td>'-</td>\n",
       "      <td>'-</td>\n",
       "      <td>'-</td>\n",
       "      <td>Desktop</td>\n",
       "      <td>18-24</td>\n",
       "      <td>0.00</td>\n",
       "      <td>2</td>\n",
       "      <td>0</td>\n",
       "      <td>0.0</td>\n",
       "    </tr>\n",
       "    <tr>\n",
       "      <th>1</th>\n",
       "      <td>Product 1</td>\n",
       "      <td>Performance</td>\n",
       "      <td>Google Ads</td>\n",
       "      <td>Search</td>\n",
       "      <td>Search Keywords</td>\n",
       "      <td>Brand</td>\n",
       "      <td>'-</td>\n",
       "      <td>'-</td>\n",
       "      <td>'-</td>\n",
       "      <td>Desktop</td>\n",
       "      <td>25-34</td>\n",
       "      <td>0.00</td>\n",
       "      <td>5</td>\n",
       "      <td>0</td>\n",
       "      <td>0.0</td>\n",
       "    </tr>\n",
       "    <tr>\n",
       "      <th>2</th>\n",
       "      <td>Product 1</td>\n",
       "      <td>Performance</td>\n",
       "      <td>Google Ads</td>\n",
       "      <td>Search</td>\n",
       "      <td>Search Keywords</td>\n",
       "      <td>Brand</td>\n",
       "      <td>'-</td>\n",
       "      <td>'-</td>\n",
       "      <td>'-</td>\n",
       "      <td>Desktop</td>\n",
       "      <td>35-44</td>\n",
       "      <td>0.00</td>\n",
       "      <td>1</td>\n",
       "      <td>0</td>\n",
       "      <td>0.0</td>\n",
       "    </tr>\n",
       "    <tr>\n",
       "      <th>3</th>\n",
       "      <td>Product 1</td>\n",
       "      <td>Performance</td>\n",
       "      <td>Google Ads</td>\n",
       "      <td>Search</td>\n",
       "      <td>Search Keywords</td>\n",
       "      <td>Brand</td>\n",
       "      <td>'-</td>\n",
       "      <td>'-</td>\n",
       "      <td>'-</td>\n",
       "      <td>Desktop</td>\n",
       "      <td>Undetermined</td>\n",
       "      <td>14.63</td>\n",
       "      <td>5</td>\n",
       "      <td>3</td>\n",
       "      <td>0.0</td>\n",
       "    </tr>\n",
       "    <tr>\n",
       "      <th>4</th>\n",
       "      <td>Product 1</td>\n",
       "      <td>Performance</td>\n",
       "      <td>Google Ads</td>\n",
       "      <td>Search</td>\n",
       "      <td>Search Keywords</td>\n",
       "      <td>Brand</td>\n",
       "      <td>'-</td>\n",
       "      <td>'-</td>\n",
       "      <td>'-</td>\n",
       "      <td>Desktop</td>\n",
       "      <td>18-24</td>\n",
       "      <td>53.31</td>\n",
       "      <td>10</td>\n",
       "      <td>2</td>\n",
       "      <td>0.0</td>\n",
       "    </tr>\n",
       "  </tbody>\n",
       "</table>\n",
       "</div>"
      ],
      "text/plain": [
       "     product        phase campaign_platform campaign_type  \\\n",
       "0  Product 1  Performance        Google Ads        Search   \n",
       "1  Product 1  Performance        Google Ads        Search   \n",
       "2  Product 1  Performance        Google Ads        Search   \n",
       "3  Product 1  Performance        Google Ads        Search   \n",
       "4  Product 1  Performance        Google Ads        Search   \n",
       "\n",
       "  communication_medium subchannel audience_type creative_type creative_name  \\\n",
       "0      Search Keywords      Brand            '-            '-            '-   \n",
       "1      Search Keywords      Brand            '-            '-            '-   \n",
       "2      Search Keywords      Brand            '-            '-            '-   \n",
       "3      Search Keywords      Brand            '-            '-            '-   \n",
       "4      Search Keywords      Brand            '-            '-            '-   \n",
       "\n",
       "    device           age  spends  impressions  clicks  link_clicks  \n",
       "0  Desktop         18-24    0.00            2       0          0.0  \n",
       "1  Desktop         25-34    0.00            5       0          0.0  \n",
       "2  Desktop         35-44    0.00            1       0          0.0  \n",
       "3  Desktop  Undetermined   14.63            5       3          0.0  \n",
       "4  Desktop         18-24   53.31           10       2          0.0  "
      ]
     },
     "execution_count": 176,
     "metadata": {},
     "output_type": "execute_result"
    }
   ],
   "source": [
    "data.head()"
   ]
  },
  {
   "cell_type": "code",
   "execution_count": 177,
   "metadata": {},
   "outputs": [
    {
     "data": {
      "image/png": "[encoded data removed]",
      "text/plain": [
       "<Figure size 432x288 with 2 Axes>"
      ]
     },
     "metadata": {
      "needs_background": "light"
     },
     "output_type": "display_data"
    }
   ],
   "source": [
    "mask1 = np.zeros_like(data.corr())\n",
    "triangle_indices = np.triu_indices_from(mask1)\n",
    "mask1[triangle_indices] = True\n",
    "\n",
    "sns.heatmap(data.corr(),mask=mask1, annot =True, annot_kws={'size':14})\n",
    "plt.xticks(fontsize=14)\n",
    "plt.yticks(fontsize=14)\n",
    "plt.show()"
   ]
  },
  {
   "cell_type": "code",
   "execution_count": 178,
   "metadata": {},
   "outputs": [
    {
     "data": {
      "text/plain": [
       "(16288, 15)"
      ]
     },
     "execution_count": 178,
     "metadata": {},
     "output_type": "execute_result"
    }
   ],
   "source": [
    "data.shape"
   ]
  },
  {
   "cell_type": "markdown",
   "metadata": {},
   "source": [
    "# Preliminary data analysis"
   ]
  },
  {
   "cell_type": "code",
   "execution_count": 179,
   "metadata": {},
   "outputs": [
    {
     "data": {
      "text/html": [
       "<div>\n",
       "<style scoped>\n",
       "    .dataframe tbody tr th:only-of-type {\n",
       "        vertical-align: middle;\n",
       "    }\n",
       "\n",
       "    .dataframe tbody tr th {\n",
       "        vertical-align: top;\n",
       "    }\n",
       "\n",
       "    .dataframe thead th {\n",
       "        text-align: right;\n",
       "    }\n",
       "</style>\n",
       "<table border=\"1\" class=\"dataframe\">\n",
       "  <thead>\n",
       "    <tr style=\"text-align: right;\">\n",
       "      <th></th>\n",
       "      <th>spends</th>\n",
       "      <th>impressions</th>\n",
       "      <th>clicks</th>\n",
       "      <th>link_clicks</th>\n",
       "    </tr>\n",
       "  </thead>\n",
       "  <tbody>\n",
       "    <tr>\n",
       "      <th>spends</th>\n",
       "      <td>1.000000</td>\n",
       "      <td>0.744762</td>\n",
       "      <td>0.837970</td>\n",
       "      <td>0.697201</td>\n",
       "    </tr>\n",
       "    <tr>\n",
       "      <th>impressions</th>\n",
       "      <td>0.744762</td>\n",
       "      <td>1.000000</td>\n",
       "      <td>0.917821</td>\n",
       "      <td>0.963108</td>\n",
       "    </tr>\n",
       "    <tr>\n",
       "      <th>clicks</th>\n",
       "      <td>0.837970</td>\n",
       "      <td>0.917821</td>\n",
       "      <td>1.000000</td>\n",
       "      <td>0.925588</td>\n",
       "    </tr>\n",
       "    <tr>\n",
       "      <th>link_clicks</th>\n",
       "      <td>0.697201</td>\n",
       "      <td>0.963108</td>\n",
       "      <td>0.925588</td>\n",
       "      <td>1.000000</td>\n",
       "    </tr>\n",
       "  </tbody>\n",
       "</table>\n",
       "</div>"
      ],
      "text/plain": [
       "               spends  impressions    clicks  link_clicks\n",
       "spends       1.000000     0.744762  0.837970     0.697201\n",
       "impressions  0.744762     1.000000  0.917821     0.963108\n",
       "clicks       0.837970     0.917821  1.000000     0.925588\n",
       "link_clicks  0.697201     0.963108  0.925588     1.000000"
      ]
     },
     "execution_count": 179,
     "metadata": {},
     "output_type": "execute_result"
    }
   ],
   "source": [
    "data.corr()"
   ]
  },
  {
   "cell_type": "code",
   "execution_count": 180,
   "metadata": {},
   "outputs": [
    {
     "data": {
      "text/plain": [
       "Google Ads      15101\n",
       "Facebook Ads     1187\n",
       "Name: campaign_platform, dtype: int64"
      ]
     },
     "execution_count": 180,
     "metadata": {},
     "output_type": "execute_result"
    }
   ],
   "source": [
    "data.campaign_platform.value_counts()"
   ]
  },
  {
   "cell_type": "code",
   "execution_count": 181,
   "metadata": {},
   "outputs": [
    {
     "data": {
      "text/plain": [
       "25-34           3067\n",
       "35-44           2768\n",
       "Undetermined    2586\n",
       "18-24           2472\n",
       "45-54           2316\n",
       "65 or more      1558\n",
       "55-64           1521\n",
       "Name: age, dtype: int64"
      ]
     },
     "execution_count": 181,
     "metadata": {},
     "output_type": "execute_result"
    }
   ],
   "source": [
    "data.age.value_counts()"
   ]
  },
  {
   "cell_type": "code",
   "execution_count": 182,
   "metadata": {},
   "outputs": [
    {
     "data": {
      "text/plain": [
       "'-            15101\n",
       "Audience 1      606\n",
       "Audience 2      488\n",
       "Audience 3       93\n",
       "Name: audience_type, dtype: int64"
      ]
     },
     "execution_count": 182,
     "metadata": {},
     "output_type": "execute_result"
    }
   ],
   "source": [
    "data.audience_type.value_counts()"
   ]
  },
  {
   "cell_type": "code",
   "execution_count": 217,
   "metadata": {},
   "outputs": [
    {
     "data": {
      "text/plain": [
       "'-          15101\n",
       "Image         829\n",
       "Carousal      358\n",
       "Name: creative_type, dtype: int64"
      ]
     },
     "execution_count": 217,
     "metadata": {},
     "output_type": "execute_result"
    }
   ],
   "source": [
    "data.creative_type.value_counts()"
   ]
  },
  {
   "cell_type": "code",
   "execution_count": 218,
   "metadata": {},
   "outputs": [
    {
     "data": {
      "text/plain": [
       "'-          15101\n",
       "Click         515\n",
       "Carousal      358\n",
       "Girl          314\n",
       "Name: creative_name, dtype: int64"
      ]
     },
     "execution_count": 218,
     "metadata": {},
     "output_type": "execute_result"
    }
   ],
   "source": [
    "data.creative_name.value_counts()"
   ]
  },
  {
   "cell_type": "code",
   "execution_count": 185,
   "metadata": {},
   "outputs": [
    {
     "data": {
      "text/plain": [
       "Search         15101\n",
       "Conversions     1187\n",
       "Name: campaign_type, dtype: int64"
      ]
     },
     "execution_count": 185,
     "metadata": {},
     "output_type": "execute_result"
    }
   ],
   "source": [
    "data.campaign_type.value_counts()"
   ]
  },
  {
   "cell_type": "code",
   "execution_count": 186,
   "metadata": {},
   "outputs": [
    {
     "data": {
      "text/plain": [
       "Search Keywords    15101\n",
       "Creative            1187\n",
       "Name: communication_medium, dtype: int64"
      ]
     },
     "execution_count": 186,
     "metadata": {},
     "output_type": "execute_result"
    }
   ],
   "source": [
    "data.communication_medium.value_counts()"
   ]
  },
  {
   "cell_type": "code",
   "execution_count": 187,
   "metadata": {},
   "outputs": [
    {
     "data": {
      "text/plain": [
       "Brand           7853\n",
       "Generic         4544\n",
       "Competitor      2704\n",
       "Facebook Ads    1187\n",
       "Name: subchannel, dtype: int64"
      ]
     },
     "execution_count": 187,
     "metadata": {},
     "output_type": "execute_result"
    }
   ],
   "source": [
    "data.subchannel.value_counts()"
   ]
  },
  {
   "cell_type": "code",
   "execution_count": 188,
   "metadata": {},
   "outputs": [
    {
     "data": {
      "text/plain": [
       "Mobile     7357\n",
       "Desktop    6318\n",
       "Tablet     1426\n",
       "device     1187\n",
       "Name: device, dtype: int64"
      ]
     },
     "execution_count": 188,
     "metadata": {},
     "output_type": "execute_result"
    }
   ],
   "source": [
    "data.device.value_counts()"
   ]
  },
  {
   "cell_type": "code",
   "execution_count": 211,
   "metadata": {},
   "outputs": [
    {
     "data": {
      "image/png": "[encoded data removed]",
      "text/plain": [
       "<Figure size 432x288 with 1 Axes>"
      ]
     },
     "metadata": {
      "needs_background": "light"
     },
     "output_type": "display_data"
    }
   ],
   "source": [
    "sns.countplot(data.age)\n",
    "plt.show()"
   ]
  },
  {
   "cell_type": "code",
   "execution_count": 190,
   "metadata": {},
   "outputs": [
    {
     "data": {
      "image/png": "[encoded data removed]",
      "text/plain": [
       "<Figure size 864x504 with 1 Axes>"
      ]
     },
     "metadata": {},
     "output_type": "display_data"
    }
   ],
   "source": [
    "explode = (0.1,0)  \n",
    "fig1, ax1 = plt.subplots(figsize=(12,7))\n",
    "ax1.pie(data['campaign_platform'].value_counts(), explode=explode,labels=['Google', 'Facebook'], autopct='%1.1f%%',\n",
    "        shadow=True, startangle=90)\n",
    "# Equal aspect ratio ensures that pie is drawn as a circle\n",
    "ax1.axis('equal')  \n",
    "plt.tight_layout()\n",
    "plt.legend()\n",
    "plt.show()"
   ]
  },
  {
   "cell_type": "code",
   "execution_count": 247,
   "metadata": {},
   "outputs": [
    {
     "data": {
      "image/png": "[encoded data removed]",
      "text/plain": [
       "<Figure size 864x504 with 1 Axes>"
      ]
     },
     "metadata": {},
     "output_type": "display_data"
    }
   ],
   "source": [
    "explode = (0.05,0.05,0.05,0)  \n",
    "fig1, ax1 = plt.subplots(figsize=(12,7))\n",
    "ax1.pie(data['subchannel'].value_counts(), explode=explode,labels=['Brand','Competitor','Generic', 'Facebook Ads'], autopct='%1.1f%%',\n",
    "        shadow=True, startangle=90)\n",
    "# Equal aspect ratio ensures that pie is drawn as a circle\n",
    "ax1.axis('equal')  \n",
    "plt.tight_layout()\n",
    "plt.legend()\n",
    "plt.show()"
   ]
  },
  {
   "cell_type": "code",
   "execution_count": 192,
   "metadata": {},
   "outputs": [
    {
     "data": {
      "image/png": "[encoded data removed]",
      "text/plain": [
       "<Figure size 432x288 with 1 Axes>"
      ]
     },
     "metadata": {
      "needs_background": "light"
     },
     "output_type": "display_data"
    }
   ],
   "source": [
    "sns.distplot(data.impressions)\n",
    "plt.show()"
   ]
  },
  {
   "cell_type": "code",
   "execution_count": 193,
   "metadata": {},
   "outputs": [
    {
     "data": {
      "image/png": "[encoded data removed]",
      "text/plain": [
       "<Figure size 432x288 with 1 Axes>"
      ]
     },
     "metadata": {
      "needs_background": "light"
     },
     "output_type": "display_data"
    }
   ],
   "source": [
    "sns.distplot(data.spends)\n",
    "plt.show()"
   ]
  },
  {
   "cell_type": "code",
   "execution_count": 195,
   "metadata": {},
   "outputs": [
    {
     "data": {
      "image/png": "[encoded data removed]",
      "text/plain": [
       "<Figure size 432x288 with 1 Axes>"
      ]
     },
     "metadata": {
      "needs_background": "light"
     },
     "output_type": "display_data"
    }
   ],
   "source": [
    "sns.distplot(data.clicks)\n",
    "plt.show()"
   ]
  },
  {
   "cell_type": "markdown",
   "metadata": {},
   "source": [
    "# Data Analysis"
   ]
  },
  {
   "cell_type": "code",
   "execution_count": 198,
   "metadata": {},
   "outputs": [
    {
     "name": "stdout",
     "output_type": "stream",
     "text": [
      "Campaign wise clicks\n",
      "campaign_platform\n",
      "Facebook Ads     77414\n",
      "Google Ads      124065\n",
      "Name: clicks, dtype: int64\n",
      "-------------------------\n",
      "Campaign wise amount spent\n",
      "campaign_platform\n",
      "Facebook Ads    5.622649e+05\n",
      "Google Ads      1.939003e+06\n",
      "Name: spends, dtype: float64\n",
      "------------------------\n",
      "Campaign wise impression\n",
      "campaign_platform\n",
      "Facebook Ads    4052762\n",
      "Google Ads       776893\n",
      "Name: impressions, dtype: int64\n",
      "============================\n"
     ]
    }
   ],
   "source": [
    "# Cost analysis\n",
    "print('Campaign wise clicks')\n",
    "print((data.groupby(['campaign_platform'])).clicks.sum())\n",
    "print('-------------------------')\n",
    "\n",
    "\n",
    "print('Campaign wise amount spent')\n",
    "print((data.groupby(['campaign_platform'])).spends.sum())\n",
    "print('------------------------')\n",
    "\n",
    "print('Campaign wise impression')\n",
    "print((data.groupby(['campaign_platform'])).impressions.sum())\n",
    "print('============================')\n",
    "\n"
   ]
  },
  {
   "cell_type": "code",
   "execution_count": 202,
   "metadata": {},
   "outputs": [
    {
     "name": "stdout",
     "output_type": "stream",
     "text": [
      "The cost per click of Facebook Ads is 7.263090655437002\n",
      "The cost per impression of Facebook Ads is 0.13873622482642703\n"
     ]
    }
   ],
   "source": [
    "Facebook_Ads_clicks = 77414\n",
    "Facebook_Ads_cost = 5.622649e+05\n",
    "Facebook_Ads_impressions = 4052762\n",
    "\n",
    "Facebook_Ads_cpc = (Facebook_Ads_cost/Facebook_Ads_clicks)\n",
    "Facebook_Ads_cpi = (Facebook_Ads_cost/Facebook_Ads_impressions)\n",
    "\n",
    "\n",
    "print('The cost per click of Facebook Ads is ' + str(Facebook_Ads_cpc))\n",
    "print('The cost per impression of Facebook Ads is ' + str(Facebook_Ads_cpi))"
   ]
  },
  {
   "cell_type": "code",
   "execution_count": 203,
   "metadata": {},
   "outputs": [
    {
     "name": "stdout",
     "output_type": "stream",
     "text": [
      "The cost per click of Google Ads is 15.628928384314674\n",
      "The cost per impression of Google Ads is 2.4958430568945786\n"
     ]
    }
   ],
   "source": [
    "Google_Ads_clicks = 124065\n",
    "Google_Ads_cost = 1.939003e+06\n",
    "Google_Ads_impressions = 776893\n",
    "\n",
    "Google_Ads_cpc = (Google_Ads_cost/Google_Ads_clicks)\n",
    "Google_Ads_cpi = (Google_Ads_cost/Google_Ads_impressions)\n",
    "\n",
    "\n",
    "print('The cost per click of Google Ads is ' + str(Google_Ads_cpc))\n",
    "print('The cost per impression of Google Ads is ' + str(Google_Ads_cpi))"
   ]
  },
  {
   "cell_type": "code",
   "execution_count": 207,
   "metadata": {},
   "outputs": [
    {
     "data": {
      "text/html": [
       "<div>\n",
       "<style scoped>\n",
       "    .dataframe tbody tr th:only-of-type {\n",
       "        vertical-align: middle;\n",
       "    }\n",
       "\n",
       "    .dataframe tbody tr th {\n",
       "        vertical-align: top;\n",
       "    }\n",
       "\n",
       "    .dataframe thead th {\n",
       "        text-align: right;\n",
       "    }\n",
       "</style>\n",
       "<table border=\"1\" class=\"dataframe\">\n",
       "  <thead>\n",
       "    <tr style=\"text-align: right;\">\n",
       "      <th></th>\n",
       "      <th>product</th>\n",
       "      <th>phase</th>\n",
       "      <th>campaign_platform</th>\n",
       "      <th>campaign_type</th>\n",
       "      <th>communication_medium</th>\n",
       "      <th>subchannel</th>\n",
       "      <th>audience_type</th>\n",
       "      <th>creative_type</th>\n",
       "      <th>creative_name</th>\n",
       "      <th>device</th>\n",
       "      <th>age</th>\n",
       "      <th>spends</th>\n",
       "      <th>impressions</th>\n",
       "      <th>clicks</th>\n",
       "      <th>link_clicks</th>\n",
       "    </tr>\n",
       "  </thead>\n",
       "  <tbody>\n",
       "    <tr>\n",
       "      <th>0</th>\n",
       "      <td>Product 1</td>\n",
       "      <td>Performance</td>\n",
       "      <td>Google Ads</td>\n",
       "      <td>Search</td>\n",
       "      <td>Search Keywords</td>\n",
       "      <td>Brand</td>\n",
       "      <td>common</td>\n",
       "      <td>'-</td>\n",
       "      <td>'-</td>\n",
       "      <td>Desktop</td>\n",
       "      <td>18-24</td>\n",
       "      <td>0.00</td>\n",
       "      <td>2</td>\n",
       "      <td>0</td>\n",
       "      <td>0.0</td>\n",
       "    </tr>\n",
       "    <tr>\n",
       "      <th>1</th>\n",
       "      <td>Product 1</td>\n",
       "      <td>Performance</td>\n",
       "      <td>Google Ads</td>\n",
       "      <td>Search</td>\n",
       "      <td>Search Keywords</td>\n",
       "      <td>Brand</td>\n",
       "      <td>common</td>\n",
       "      <td>'-</td>\n",
       "      <td>'-</td>\n",
       "      <td>Desktop</td>\n",
       "      <td>25-34</td>\n",
       "      <td>0.00</td>\n",
       "      <td>5</td>\n",
       "      <td>0</td>\n",
       "      <td>0.0</td>\n",
       "    </tr>\n",
       "    <tr>\n",
       "      <th>2</th>\n",
       "      <td>Product 1</td>\n",
       "      <td>Performance</td>\n",
       "      <td>Google Ads</td>\n",
       "      <td>Search</td>\n",
       "      <td>Search Keywords</td>\n",
       "      <td>Brand</td>\n",
       "      <td>common</td>\n",
       "      <td>'-</td>\n",
       "      <td>'-</td>\n",
       "      <td>Desktop</td>\n",
       "      <td>35-44</td>\n",
       "      <td>0.00</td>\n",
       "      <td>1</td>\n",
       "      <td>0</td>\n",
       "      <td>0.0</td>\n",
       "    </tr>\n",
       "    <tr>\n",
       "      <th>3</th>\n",
       "      <td>Product 1</td>\n",
       "      <td>Performance</td>\n",
       "      <td>Google Ads</td>\n",
       "      <td>Search</td>\n",
       "      <td>Search Keywords</td>\n",
       "      <td>Brand</td>\n",
       "      <td>common</td>\n",
       "      <td>'-</td>\n",
       "      <td>'-</td>\n",
       "      <td>Desktop</td>\n",
       "      <td>Undetermined</td>\n",
       "      <td>14.63</td>\n",
       "      <td>5</td>\n",
       "      <td>3</td>\n",
       "      <td>0.0</td>\n",
       "    </tr>\n",
       "    <tr>\n",
       "      <th>4</th>\n",
       "      <td>Product 1</td>\n",
       "      <td>Performance</td>\n",
       "      <td>Google Ads</td>\n",
       "      <td>Search</td>\n",
       "      <td>Search Keywords</td>\n",
       "      <td>Brand</td>\n",
       "      <td>common</td>\n",
       "      <td>'-</td>\n",
       "      <td>'-</td>\n",
       "      <td>Desktop</td>\n",
       "      <td>18-24</td>\n",
       "      <td>53.31</td>\n",
       "      <td>10</td>\n",
       "      <td>2</td>\n",
       "      <td>0.0</td>\n",
       "    </tr>\n",
       "  </tbody>\n",
       "</table>\n",
       "</div>"
      ],
      "text/plain": [
       "     product        phase campaign_platform campaign_type  \\\n",
       "0  Product 1  Performance        Google Ads        Search   \n",
       "1  Product 1  Performance        Google Ads        Search   \n",
       "2  Product 1  Performance        Google Ads        Search   \n",
       "3  Product 1  Performance        Google Ads        Search   \n",
       "4  Product 1  Performance        Google Ads        Search   \n",
       "\n",
       "  communication_medium subchannel audience_type creative_type creative_name  \\\n",
       "0      Search Keywords      Brand        common            '-            '-   \n",
       "1      Search Keywords      Brand        common            '-            '-   \n",
       "2      Search Keywords      Brand        common            '-            '-   \n",
       "3      Search Keywords      Brand        common            '-            '-   \n",
       "4      Search Keywords      Brand        common            '-            '-   \n",
       "\n",
       "    device           age  spends  impressions  clicks  link_clicks  \n",
       "0  Desktop         18-24    0.00            2       0          0.0  \n",
       "1  Desktop         25-34    0.00            5       0          0.0  \n",
       "2  Desktop         35-44    0.00            1       0          0.0  \n",
       "3  Desktop  Undetermined   14.63            5       3          0.0  \n",
       "4  Desktop         18-24   53.31           10       2          0.0  "
      ]
     },
     "execution_count": 207,
     "metadata": {},
     "output_type": "execute_result"
    }
   ],
   "source": [
    "dfg = data.query('campaign_platform == \"Google Ads\"')\n",
    "dfg.head()"
   ]
  },
  {
   "cell_type": "code",
   "execution_count": 208,
   "metadata": {},
   "outputs": [
    {
     "data": {
      "text/html": [
       "<div>\n",
       "<style scoped>\n",
       "    .dataframe tbody tr th:only-of-type {\n",
       "        vertical-align: middle;\n",
       "    }\n",
       "\n",
       "    .dataframe tbody tr th {\n",
       "        vertical-align: top;\n",
       "    }\n",
       "\n",
       "    .dataframe thead th {\n",
       "        text-align: right;\n",
       "    }\n",
       "</style>\n",
       "<table border=\"1\" class=\"dataframe\">\n",
       "  <thead>\n",
       "    <tr style=\"text-align: right;\">\n",
       "      <th></th>\n",
       "      <th>product</th>\n",
       "      <th>phase</th>\n",
       "      <th>campaign_platform</th>\n",
       "      <th>campaign_type</th>\n",
       "      <th>communication_medium</th>\n",
       "      <th>subchannel</th>\n",
       "      <th>audience_type</th>\n",
       "      <th>creative_type</th>\n",
       "      <th>creative_name</th>\n",
       "      <th>device</th>\n",
       "      <th>age</th>\n",
       "      <th>spends</th>\n",
       "      <th>impressions</th>\n",
       "      <th>clicks</th>\n",
       "      <th>link_clicks</th>\n",
       "    </tr>\n",
       "  </thead>\n",
       "  <tbody>\n",
       "    <tr>\n",
       "      <th>2009</th>\n",
       "      <td>Product 1</td>\n",
       "      <td>Performance</td>\n",
       "      <td>Facebook Ads</td>\n",
       "      <td>Conversions</td>\n",
       "      <td>Creative</td>\n",
       "      <td>Facebook Ads</td>\n",
       "      <td>Audience 2</td>\n",
       "      <td>Carousal</td>\n",
       "      <td>Carousal</td>\n",
       "      <td>device</td>\n",
       "      <td>25-34</td>\n",
       "      <td>70.28</td>\n",
       "      <td>730</td>\n",
       "      <td>12</td>\n",
       "      <td>9.0</td>\n",
       "    </tr>\n",
       "    <tr>\n",
       "      <th>2010</th>\n",
       "      <td>Product 1</td>\n",
       "      <td>Performance</td>\n",
       "      <td>Facebook Ads</td>\n",
       "      <td>Conversions</td>\n",
       "      <td>Creative</td>\n",
       "      <td>Facebook Ads</td>\n",
       "      <td>Audience 2</td>\n",
       "      <td>Carousal</td>\n",
       "      <td>Carousal</td>\n",
       "      <td>device</td>\n",
       "      <td>35-44</td>\n",
       "      <td>7.66</td>\n",
       "      <td>71</td>\n",
       "      <td>1</td>\n",
       "      <td>1.0</td>\n",
       "    </tr>\n",
       "    <tr>\n",
       "      <th>2013</th>\n",
       "      <td>Product 1</td>\n",
       "      <td>Performance</td>\n",
       "      <td>Facebook Ads</td>\n",
       "      <td>Conversions</td>\n",
       "      <td>Creative</td>\n",
       "      <td>Facebook Ads</td>\n",
       "      <td>Audience 2</td>\n",
       "      <td>Image</td>\n",
       "      <td>Click</td>\n",
       "      <td>device</td>\n",
       "      <td>25-34</td>\n",
       "      <td>117.13</td>\n",
       "      <td>638</td>\n",
       "      <td>36</td>\n",
       "      <td>21.0</td>\n",
       "    </tr>\n",
       "    <tr>\n",
       "      <th>2014</th>\n",
       "      <td>Product 1</td>\n",
       "      <td>Performance</td>\n",
       "      <td>Facebook Ads</td>\n",
       "      <td>Conversions</td>\n",
       "      <td>Creative</td>\n",
       "      <td>Facebook Ads</td>\n",
       "      <td>Audience 2</td>\n",
       "      <td>Image</td>\n",
       "      <td>Click</td>\n",
       "      <td>device</td>\n",
       "      <td>35-44</td>\n",
       "      <td>20.85</td>\n",
       "      <td>125</td>\n",
       "      <td>4</td>\n",
       "      <td>2.0</td>\n",
       "    </tr>\n",
       "    <tr>\n",
       "      <th>2017</th>\n",
       "      <td>Product 1</td>\n",
       "      <td>Performance</td>\n",
       "      <td>Facebook Ads</td>\n",
       "      <td>Conversions</td>\n",
       "      <td>Creative</td>\n",
       "      <td>Facebook Ads</td>\n",
       "      <td>Audience 2</td>\n",
       "      <td>Carousal</td>\n",
       "      <td>Carousal</td>\n",
       "      <td>device</td>\n",
       "      <td>25-34</td>\n",
       "      <td>37.82</td>\n",
       "      <td>297</td>\n",
       "      <td>8</td>\n",
       "      <td>6.0</td>\n",
       "    </tr>\n",
       "  </tbody>\n",
       "</table>\n",
       "</div>"
      ],
      "text/plain": [
       "        product        phase campaign_platform campaign_type  \\\n",
       "2009  Product 1  Performance      Facebook Ads   Conversions   \n",
       "2010  Product 1  Performance      Facebook Ads   Conversions   \n",
       "2013  Product 1  Performance      Facebook Ads   Conversions   \n",
       "2014  Product 1  Performance      Facebook Ads   Conversions   \n",
       "2017  Product 1  Performance      Facebook Ads   Conversions   \n",
       "\n",
       "     communication_medium    subchannel audience_type creative_type  \\\n",
       "2009             Creative  Facebook Ads    Audience 2      Carousal   \n",
       "2010             Creative  Facebook Ads    Audience 2      Carousal   \n",
       "2013             Creative  Facebook Ads    Audience 2         Image   \n",
       "2014             Creative  Facebook Ads    Audience 2         Image   \n",
       "2017             Creative  Facebook Ads    Audience 2      Carousal   \n",
       "\n",
       "     creative_name  device    age  spends  impressions  clicks  link_clicks  \n",
       "2009      Carousal  device  25-34   70.28          730      12          9.0  \n",
       "2010      Carousal  device  35-44    7.66           71       1          1.0  \n",
       "2013         Click  device  25-34  117.13          638      36         21.0  \n",
       "2014         Click  device  35-44   20.85          125       4          2.0  \n",
       "2017      Carousal  device  25-34   37.82          297       8          6.0  "
      ]
     },
     "execution_count": 208,
     "metadata": {},
     "output_type": "execute_result"
    }
   ],
   "source": [
    "dfb = data.query('campaign_platform == \"Facebook Ads\"')\n",
    "dfb.head()"
   ]
  },
  {
   "cell_type": "code",
   "execution_count": 210,
   "metadata": {},
   "outputs": [
    {
     "name": "stdout",
     "output_type": "stream",
     "text": [
      "age\n",
      "18-24            28224\n",
      "25-34           101820\n",
      "35-44            32281\n",
      "45-54             8500\n",
      "55-64             1478\n",
      "65 or more        1854\n",
      "Undetermined     27322\n",
      "Name: clicks, dtype: int64\n",
      "age\n",
      "18-24           2472\n",
      "25-34           3067\n",
      "35-44           2768\n",
      "45-54           2316\n",
      "55-64           1521\n",
      "65 or more      1558\n",
      "Undetermined    2586\n",
      "Name: impressions, dtype: int64\n",
      "-------------------------\n",
      "age\n",
      "18-24           28224\n",
      "25-34           44053\n",
      "35-44           16609\n",
      "45-54            4629\n",
      "55-64            1374\n",
      "65 or more       1854\n",
      "Undetermined    27322\n",
      "Name: clicks, dtype: int64\n",
      "age\n",
      "18-24           2472\n",
      "25-34           2609\n",
      "35-44           2380\n",
      "45-54           2022\n",
      "55-64           1474\n",
      "65 or more      1558\n",
      "Undetermined    2586\n",
      "Name: impressions, dtype: int64\n",
      "-------------------------\n",
      "age\n",
      "25-34    57767\n",
      "35-44    15672\n",
      "45-54     3871\n",
      "55-64      104\n",
      "Name: clicks, dtype: int64\n",
      "age\n",
      "25-34    458\n",
      "35-44    388\n",
      "45-54    294\n",
      "55-64     47\n",
      "Name: impressions, dtype: int64\n",
      "-------------------------\n"
     ]
    }
   ],
   "source": [
    "# Age analysis\n",
    "\n",
    "print((data.groupby(['age'])).clicks.sum())\n",
    "print((data.groupby(['age'])).impressions.count())\n",
    "print('-------------------------')\n",
    "print((dfg.groupby(['age'])).clicks.sum())\n",
    "print((dfg.groupby(['age'])).impressions.count())\n",
    "print('-------------------------')\n",
    "print((dfb.groupby(['age'])).clicks.sum())\n",
    "print((dfb.groupby(['age'])).impressions.count())\n",
    "print('-------------------------')"
   ]
  },
  {
   "cell_type": "code",
   "execution_count": 212,
   "metadata": {},
   "outputs": [
    {
     "data": {
      "image/png": "[encoded data removed]",
      "text/plain": [
       "<Figure size 864x504 with 1 Axes>"
      ]
     },
     "metadata": {
      "needs_background": "light"
     },
     "output_type": "display_data"
    }
   ],
   "source": [
    "fig1, ax1 = plt.subplots(figsize=(12,7))\n",
    "sns.countplot(data['age'],hue=data['campaign_platform'])\n",
    "plt.show()"
   ]
  },
  {
   "cell_type": "code",
   "execution_count": 214,
   "metadata": {},
   "outputs": [
    {
     "name": "stdout",
     "output_type": "stream",
     "text": [
      "device\n",
      "Desktop    29276\n",
      "Mobile     94348\n",
      "Tablet       441\n",
      "device     77414\n",
      "Name: clicks, dtype: int64\n",
      "device\n",
      "Desktop    6318\n",
      "Mobile     7357\n",
      "Tablet     1426\n",
      "device     1187\n",
      "Name: impressions, dtype: int64\n",
      "-------------------------\n",
      "device\n",
      "Desktop    29276\n",
      "Mobile     94348\n",
      "Tablet       441\n",
      "Name: clicks, dtype: int64\n",
      "device\n",
      "Desktop    6318\n",
      "Mobile     7357\n",
      "Tablet     1426\n",
      "Name: impressions, dtype: int64\n",
      "-------------------------\n",
      "device\n",
      "device    77414\n",
      "Name: clicks, dtype: int64\n",
      "device\n",
      "device    1187\n",
      "Name: impressions, dtype: int64\n",
      "-------------------------\n"
     ]
    }
   ],
   "source": [
    "print((data.groupby(['device'])).clicks.sum())\n",
    "print((data.groupby(['device'])).impressions.count())\n",
    "print('-------------------------')\n",
    "print((dfg.groupby(['device'])).clicks.sum())\n",
    "print((dfg.groupby(['device'])).impressions.count())\n",
    "print('-------------------------')\n",
    "print((dfb.groupby(['device'])).clicks.sum())\n",
    "print((dfb.groupby(['device'])).impressions.count())\n",
    "print('-------------------------')"
   ]
  },
  {
   "cell_type": "code",
   "execution_count": 191,
   "metadata": {},
   "outputs": [
    {
     "data": {
      "image/png": "[encoded data removed]",
      "text/plain": [
       "<Figure size 576x360 with 1 Axes>"
      ]
     },
     "metadata": {
      "needs_background": "light"
     },
     "output_type": "display_data"
    }
   ],
   "source": [
    "fig1, ax1 = plt.subplots(figsize=(8,5))\n",
    "sns.countplot(data['device'],hue=data['campaign_platform'])\n",
    "plt.show()"
   ]
  },
  {
   "cell_type": "code",
   "execution_count": 215,
   "metadata": {},
   "outputs": [
    {
     "name": "stdout",
     "output_type": "stream",
     "text": [
      "audience_type\n",
      "Audience 1     61514\n",
      "Audience 2     14584\n",
      "Audience 3      1316\n",
      "common        124065\n",
      "Name: clicks, dtype: int64\n",
      "audience_type\n",
      "Audience 1      606\n",
      "Audience 2      488\n",
      "Audience 3       93\n",
      "common        15101\n",
      "Name: impressions, dtype: int64\n",
      "-------------------------\n",
      "audience_type\n",
      "common    124065\n",
      "Name: clicks, dtype: int64\n",
      "audience_type\n",
      "common    15101\n",
      "Name: impressions, dtype: int64\n",
      "-------------------------\n",
      "audience_type\n",
      "Audience 1    61514\n",
      "Audience 2    14584\n",
      "Audience 3     1316\n",
      "Name: clicks, dtype: int64\n",
      "audience_type\n",
      "Audience 1    606\n",
      "Audience 2    488\n",
      "Audience 3     93\n",
      "Name: impressions, dtype: int64\n",
      "-------------------------\n"
     ]
    }
   ],
   "source": [
    "print((data.groupby(['audience_type'])).clicks.sum())\n",
    "print((data.groupby(['audience_type'])).impressions.count())\n",
    "print('-------------------------')\n",
    "print((dfg.groupby(['audience_type'])).clicks.sum())\n",
    "print((dfg.groupby(['audience_type'])).impressions.count())\n",
    "print('-------------------------')\n",
    "print((dfb.groupby(['audience_type'])).clicks.sum())\n",
    "print((dfb.groupby(['audience_type'])).impressions.count())\n",
    "print('-------------------------')"
   ]
  },
  {
   "cell_type": "code",
   "execution_count": 222,
   "metadata": {},
   "outputs": [
    {
     "data": {
      "image/png": "[encoded data removed]",
      "text/plain": [
       "<Figure size 576x432 with 1 Axes>"
      ]
     },
     "metadata": {
      "needs_background": "light"
     },
     "output_type": "display_data"
    }
   ],
   "source": [
    "fig1, ax1 = plt.subplots(figsize=(8,6))\n",
    "sns.countplot(data['campaign_platform'],hue=data['subchannel'])\n",
    "plt.show()"
   ]
  },
  {
   "cell_type": "markdown",
   "metadata": {},
   "source": []
  }
 ],
 "metadata": {
  "kernelspec": {
   "display_name": "Python 3",
   "language": "python",
   "name": "python3"
  },
  "language_info": {
   "codemirror_mode": {
    "name": "ipython",
    "version": 3
   },
   "file_extension": ".py",
   "mimetype": "text/x-python",
   "name": "python",
   "nbconvert_exporter": "python",
   "pygments_lexer": "ipython3",
   "version": "3.7.3"
  }
 },
 "nbformat": 4,
 "nbformat_minor": 2
}
